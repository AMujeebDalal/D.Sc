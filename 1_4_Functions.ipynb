{
  "nbformat": 4,
  "nbformat_minor": 0,
  "metadata": {
    "colab": {
      "name": "1.4 Functions.ipynb",
      "provenance": [],
      "collapsed_sections": [],
      "include_colab_link": true
    },
    "kernelspec": {
      "name": "python3",
      "display_name": "Python 3"
    }
  },
  "cells": [
    {
      "cell_type": "markdown",
      "metadata": {
        "id": "view-in-github",
        "colab_type": "text"
      },
      "source": [
        "<a href=\"https://colab.research.google.com/github/AMujeebDalal/Practice/blob/main/1_4_Functions.ipynb\" target=\"_parent\"><img src=\"https://colab.research.google.com/assets/colab-badge.svg\" alt=\"Open In Colab\"/></a>"
      ]
    },
    {
      "cell_type": "markdown",
      "metadata": {
        "id": "NJsNx-SOH44m"
      },
      "source": [
        ""
      ]
    },
    {
      "cell_type": "markdown",
      "metadata": {
        "id": "opL8szIrJsE8"
      },
      "source": [
        "# Python Functions\n",
        "\n",
        "**A function is a block of code which only runs when it is called.**\n",
        "\n",
        "**You can pass data, known as parameters, into a function(Function_Name(Parameters)).**\n",
        "\n",
        "**A function can return a value if specified.**\n",
        "\n"
      ]
    },
    {
      "cell_type": "markdown",
      "metadata": {
        "id": "auWEeZUjLFok"
      },
      "source": [
        "## Answers to the exercises are given at the end of the notebook"
      ]
    },
    {
      "cell_type": "markdown",
      "metadata": {
        "id": "4W-kTL7YKg2P"
      },
      "source": [
        "## **Creating a Function:**\n",
        "\n",
        "In Python a function is defined using the def keyword.\n",
        "\n"
      ]
    },
    {
      "cell_type": "code",
      "metadata": {
        "id": "yjuGcorlKn3Z",
        "trusted": false
      },
      "source": [
        "def my_function():\n",
        "  print(\"Hello from a function\")"
      ],
      "execution_count": null,
      "outputs": []
    },
    {
      "cell_type": "markdown",
      "metadata": {
        "id": "XIHCmqG1p1Gs"
      },
      "source": [
        "**Exercise 4.1 :**\n",
        "\n",
        "Create a function named** display**"
      ]
    },
    {
      "cell_type": "code",
      "metadata": {
        "id": "E18zWpKKqIb-",
        "trusted": false
      },
      "source": [
        "### START CODE HERE ### \n",
        "def display():\n",
        "  print(\"hello\")\n",
        "### END CODE HERE ###   \n",
        "  "
      ],
      "execution_count": null,
      "outputs": []
    },
    {
      "cell_type": "markdown",
      "metadata": {
        "id": "ilUkC696luU-"
      },
      "source": [
        "**Exercise 4.2 :**\n",
        "\n",
        "Write a python function to print the name of our country.\n",
        "    \n",
        "Expected output: India"
      ]
    },
    {
      "cell_type": "code",
      "metadata": {
        "id": "hWbwDaAkl01F",
        "trusted": false,
        "outputId": "e1c59083-56cf-4b88-c474-5dc43b96dacb",
        "colab": {
          "base_uri": "https://localhost:8080/"
        }
      },
      "source": [
        "## Code here\n",
        "def country():\n",
        "  print(\"India\")\n",
        "country()"
      ],
      "execution_count": null,
      "outputs": [
        {
          "output_type": "stream",
          "text": [
            "India\n"
          ],
          "name": "stdout"
        }
      ]
    },
    {
      "cell_type": "markdown",
      "metadata": {
        "id": "OYI1M2hMKqw_"
      },
      "source": [
        "##**Calling a Function:**\n",
        "\n",
        "To call a function, use the function name followed by parenthesis."
      ]
    },
    {
      "cell_type": "markdown",
      "metadata": {
        "id": "t45zYPfSmIls"
      },
      "source": [
        "**Exercise 4.3**\n",
        "\n",
        "Write a Python function to find the Max of two numbers.\n",
        "Input: 1 2 3\n",
        "\n",
        "Output: 3"
      ]
    },
    {
      "cell_type": "code",
      "metadata": {
        "id": "BtZItpmomRE0",
        "trusted": false,
        "outputId": "55dc5ad6-42f8-4213-c55e-0cf75ad35abe",
        "colab": {
          "base_uri": "https://localhost:8080/"
        }
      },
      "source": [
        "## Code here\n",
        "def Max(x,y,z):\n",
        "  if x>y & x>z:\n",
        "    print(x)\n",
        "  elif y>x & y>z:\n",
        "    print(y)\n",
        "  else:\n",
        "    print(z)\n",
        "Max(1,2,3)"
      ],
      "execution_count": null,
      "outputs": [
        {
          "output_type": "stream",
          "text": [
            "3\n"
          ],
          "name": "stdout"
        }
      ]
    },
    {
      "cell_type": "markdown",
      "metadata": {
        "id": "kIT0tXNvK2sQ"
      },
      "source": [
        "## **Parameters:**\n",
        "\n",
        "Information can be passed to functions as parameter.\n",
        "\n",
        "Parameters are specified after the function name, inside the parentheses. You can add as many parameters as you want, just separate them with a comma.\n",
        "\n",
        "The following example has a function with one parameter (fname). When the function is called, we pass along a first name, which is used inside the function to print the full name."
      ]
    },
    {
      "cell_type": "code",
      "metadata": {
        "id": "binEfnSWK-0z",
        "trusted": false,
        "outputId": "4890b8e2-1fe6-4657-cbea-2b56c075c4a6",
        "colab": {
          "base_uri": "https://localhost:8080/"
        }
      },
      "source": [
        "def my_function(fname):\n",
        "  print(fname + \" Refsnes\")\n",
        "\n",
        "my_function(\"Emil\")\n",
        "my_function(\"Tobias\")\n",
        "my_function(\"Linus\")"
      ],
      "execution_count": null,
      "outputs": [
        {
          "output_type": "stream",
          "text": [
            "Emil Refsnes\n",
            "Tobias Refsnes\n",
            "Linus Refsnes\n"
          ],
          "name": "stdout"
        }
      ]
    },
    {
      "cell_type": "markdown",
      "metadata": {
        "id": "5aQML1gELHkV"
      },
      "source": [
        "**NOTE:** If we call the function without parameter, it uses the default value.\n",
        "\n"
      ]
    },
    {
      "cell_type": "code",
      "metadata": {
        "id": "7dpGWUl2LgJ1",
        "trusted": false,
        "outputId": "0158ed06-580d-49a6-abfd-ddf721b86a66",
        "colab": {
          "base_uri": "https://localhost:8080/"
        }
      },
      "source": [
        "def my_function(country = \"Norway\"):\n",
        "  print(\"I am from \" + country)\n",
        "\n",
        "my_function(\"Sweden\")\n",
        "my_function(\"India\")\n",
        "my_function()\n",
        "my_function(\"Brazil\")"
      ],
      "execution_count": null,
      "outputs": [
        {
          "output_type": "stream",
          "text": [
            "I am from Sweden\n",
            "I am from India\n",
            "I am from Norway\n",
            "I am from Brazil\n"
          ],
          "name": "stdout"
        }
      ]
    },
    {
      "cell_type": "markdown",
      "metadata": {
        "id": "ud0pxNPILjl4"
      },
      "source": [
        "## **Return Statement**\n",
        "\n",
        "\n",
        "When the function results in some value and that value has to be stored in a variable or needs to be sent back or returned for further operation to the main algorithm, return statement is used."
      ]
    },
    {
      "cell_type": "code",
      "metadata": {
        "id": "6lCX5vjnl2VI",
        "trusted": false
      },
      "source": [
        "def times(x,y):\n",
        "    z = x*y\n",
        "    return z"
      ],
      "execution_count": null,
      "outputs": []
    },
    {
      "cell_type": "markdown",
      "metadata": {
        "id": "zRqE0iUil43n"
      },
      "source": [
        "\n",
        "The above defined times( ) function accepts two arguements and return the variable z which contains the result of the product of the two arguements"
      ]
    },
    {
      "cell_type": "code",
      "metadata": {
        "id": "uGg7B0skl5kx",
        "trusted": false,
        "outputId": "a52a57e6-b7d5-4084-dd5f-9cbfe2efc133",
        "colab": {
          "base_uri": "https://localhost:8080/"
        }
      },
      "source": [
        "c = times(4,5)\n",
        "print(c)"
      ],
      "execution_count": null,
      "outputs": [
        {
          "output_type": "stream",
          "text": [
            "20\n"
          ],
          "name": "stdout"
        }
      ]
    },
    {
      "cell_type": "markdown",
      "metadata": {
        "id": "8zLL6BVDl9wf"
      },
      "source": [
        "\n",
        "20\n",
        "\n",
        "The z value is stored in variable c and can be used for further operations.\n",
        "\n",
        "Instead of declaring another variable the entire statement itself can be used in the return statement as shown."
      ]
    },
    {
      "cell_type": "code",
      "metadata": {
        "id": "407KYJSfmAIx",
        "trusted": false
      },
      "source": [
        "def times(x,y):\n",
        "   return x*y       # This multiplies the two input arguments and returns it."
      ],
      "execution_count": null,
      "outputs": []
    },
    {
      "cell_type": "code",
      "metadata": {
        "id": "IkEjFGqimc0P",
        "trusted": false,
        "outputId": "f097f0aa-7c06-429a-bf79-84f3ba421a69",
        "colab": {
          "base_uri": "https://localhost:8080/"
        }
      },
      "source": [
        "\n",
        "c = times(4,5)\n",
        "print(c)"
      ],
      "execution_count": null,
      "outputs": [
        {
          "output_type": "stream",
          "text": [
            "20\n"
          ],
          "name": "stdout"
        }
      ]
    },
    {
      "cell_type": "markdown",
      "metadata": {
        "id": "aQhjj5DZmZ7P"
      },
      "source": [
        "\n",
        "20\n",
        "\n",
        "Since the times( ) is now defined, we can document it as shown above. This document is returned whenever times( ) function is called under help( ) function."
      ]
    },
    {
      "cell_type": "markdown",
      "metadata": {
        "id": "SLepfEhKrX_W"
      },
      "source": [
        "**Exercise 4.4 :**\n",
        "\n",
        " Let the function return the** x** parameter - 10"
      ]
    },
    {
      "cell_type": "code",
      "metadata": {
        "id": "EJkOKbMErtWu",
        "trusted": false,
        "outputId": "1e6a306d-d90b-40ab-8900-e0995315f6e9",
        "colab": {
          "base_uri": "https://localhost:8080/"
        }
      },
      "source": [
        "### START CODE HERE ### \n",
        "           ## 1 line of code\n",
        "### END CODE HERE ###  \n",
        "def minus10(x):\n",
        "  return x-10\n",
        "c = minus10(38)\n",
        "print(c)"
      ],
      "execution_count": null,
      "outputs": [
        {
          "output_type": "stream",
          "text": [
            "28\n"
          ],
          "name": "stdout"
        }
      ]
    },
    {
      "cell_type": "markdown",
      "metadata": {
        "id": "Xx0P1GKOm1MP"
      },
      "source": [
        "## **Implicit arguments**\n",
        "\n",
        "When an argument of a function is common in majority of the cases or it is \"implicit\" this concept is used."
      ]
    },
    {
      "cell_type": "code",
      "metadata": {
        "id": "s2TVSIjMm-B3",
        "trusted": false
      },
      "source": [
        "\n",
        "def implicitadd(x,y=3):\n",
        "    return x+y"
      ],
      "execution_count": null,
      "outputs": []
    },
    {
      "cell_type": "markdown",
      "metadata": {
        "id": "GeGLdnfkm-mu"
      },
      "source": [
        "\n",
        "**implicitadd( )**  is a function accepts two arguments but most of the times the first argument needs to be added just by 3. Hence the second argument is assigned the value 3. Here the second argument is implicit.\n",
        "\n"
      ]
    },
    {
      "cell_type": "code",
      "metadata": {
        "id": "4p239913nBK3",
        "trusted": false,
        "outputId": "c0c9b741-750c-4938-c224-77c42365876c",
        "colab": {
          "base_uri": "https://localhost:8080/"
        }
      },
      "source": [
        "implicitadd(4)       # if the second argument is not defined when calling the implicitadd( ) function then it considered as 3."
      ],
      "execution_count": null,
      "outputs": [
        {
          "output_type": "execute_result",
          "data": {
            "text/plain": [
              "7"
            ]
          },
          "metadata": {
            "tags": []
          },
          "execution_count": 19
        }
      ]
    },
    {
      "cell_type": "markdown",
      "metadata": {
        "id": "gDAmKP5ZnbGZ"
      },
      "source": [
        "\n",
        "But if the second argument is specified then this value overrides the implicit value assigned to the argument\n",
        "\n"
      ]
    },
    {
      "cell_type": "code",
      "metadata": {
        "id": "l86L7fuxni6o",
        "trusted": false,
        "outputId": "41f9833f-8137-4e10-83e1-29a60ced8391",
        "colab": {
          "base_uri": "https://localhost:8080/"
        }
      },
      "source": [
        "\n",
        "implicitadd(4,4)     # if the second argument is specified then this value overrides the implicit value assigned to the argument"
      ],
      "execution_count": null,
      "outputs": [
        {
          "output_type": "execute_result",
          "data": {
            "text/plain": [
              "8"
            ]
          },
          "metadata": {
            "tags": []
          },
          "execution_count": 20
        }
      ]
    },
    {
      "cell_type": "markdown",
      "metadata": {
        "id": "R7IislQFnvwP"
      },
      "source": [
        "## ** Arbitrary  arguments**\n",
        "\n",
        "If the number of arguments that is to be accepted by a function is not known then a asterisk symbol is used before the argument."
      ]
    },
    {
      "cell_type": "code",
      "metadata": {
        "id": "rriBB-bHn1cI",
        "trusted": false
      },
      "source": [
        "def add_n(*args):\n",
        "    res = 0\n",
        "    reslist = []\n",
        "    for i in args:\n",
        "        reslist.append(i)\n",
        "    print(reslist)\n",
        "    return sum(reslist)"
      ],
      "execution_count": null,
      "outputs": []
    },
    {
      "cell_type": "markdown",
      "metadata": {
        "id": "PTibkto7n4Y_"
      },
      "source": [
        "The above function accepts any number of arguments, defines a list and appends all the arguments into that list and return the sum of all the arguments."
      ]
    },
    {
      "cell_type": "code",
      "metadata": {
        "id": "eCPXDl8NoQ-o",
        "trusted": false,
        "outputId": "149e04d3-5e79-48b8-a280-d947301976e3",
        "colab": {
          "base_uri": "https://localhost:8080/"
        }
      },
      "source": [
        "add_n(1,2,3,4,5)"
      ],
      "execution_count": null,
      "outputs": [
        {
          "output_type": "stream",
          "text": [
            "[1, 2, 3, 4, 5]\n"
          ],
          "name": "stdout"
        },
        {
          "output_type": "execute_result",
          "data": {
            "text/plain": [
              "15"
            ]
          },
          "metadata": {
            "tags": []
          },
          "execution_count": 23
        }
      ]
    },
    {
      "cell_type": "markdown",
      "metadata": {
        "id": "R5FFICsXoV2h"
      },
      "source": [
        "**Output :** \n",
        "\n",
        "[1, 2, 3, 4, 5]\n",
        "\n",
        " 15"
      ]
    },
    {
      "cell_type": "markdown",
      "metadata": {
        "id": "rSfTbDorv-51"
      },
      "source": [
        "**Exercise 4.5 :**\n",
        "\n",
        "1) Create a function called **add**, which takes two numbers as parameters and prints their addition.\n",
        " \n",
        "2) Display the additon of **12** and** 36**.\n",
        "\n",
        "\n"
      ]
    },
    {
      "cell_type": "code",
      "metadata": {
        "id": "-JL73Zxqwim1",
        "trusted": false,
        "outputId": "d2897425-a91f-43c4-e5c3-aea66d3352a1",
        "colab": {
          "base_uri": "https://localhost:8080/"
        }
      },
      "source": [
        "### START CODE HERE ### \n",
        "def add(x,y):\n",
        "  print(x+y)\n",
        "add(12,36)\n",
        " \n",
        "\n",
        "### END CODE HERE ###"
      ],
      "execution_count": null,
      "outputs": [
        {
          "output_type": "stream",
          "text": [
            "48\n"
          ],
          "name": "stdout"
        }
      ]
    },
    {
      "cell_type": "markdown",
      "metadata": {
        "id": "OPKxC2EQyEdV"
      },
      "source": [
        "**Expected output:**\n",
        "\n",
        "48"
      ]
    },
    {
      "cell_type": "markdown",
      "metadata": {
        "id": "hKKsVAxI2aJI"
      },
      "source": [
        "**Exercise 4.6 :**\n",
        "\n",
        "Write a shutting down function:\n",
        "\n",
        "1) Define  a function, **shut_down**, that takes one argument s. \n",
        "\n",
        "2)  If the **shut_down** function receives an **s** equal to** 1**, it should return **\"Shutting down\"** Alternatively, elif **s** is equal to **2,** then the function should return **\"Shutdown aborted\"**. Finally, if** shut_down** gets anything other than those inputs, the function should return **\"Sorry\".**"
      ]
    },
    {
      "cell_type": "code",
      "metadata": {
        "id": "rNz2vdFa3Gu4",
        "trusted": false,
        "outputId": "1c23f421-8bb1-4631-dd81-931275af0734",
        "colab": {
          "base_uri": "https://localhost:8080/"
        }
      },
      "source": [
        "### START CODE HERE ###                  \n",
        "def shut_down(x):\n",
        "  if x==1:\n",
        "    print(\"Shutting down\")\n",
        "  elif x==2:\n",
        "    print('Shutdown aborted')\n",
        "  else:\n",
        "    print('Sorry')\n",
        "shut_down(1)\n",
        "### END CODE HERE ###"
      ],
      "execution_count": null,
      "outputs": [
        {
          "output_type": "stream",
          "text": [
            "Shutting down\n"
          ],
          "name": "stdout"
        }
      ]
    },
    {
      "cell_type": "markdown",
      "metadata": {
        "id": "N2Z_Mq_sBM5C"
      },
      "source": [
        "**Exercise 4.7 :**\n",
        "\n",
        "Write functions to **add**,** subtract, divide,** and **multiply** two numbers"
      ]
    },
    {
      "cell_type": "code",
      "metadata": {
        "id": "EOTAKL1KBe55",
        "trusted": false,
        "outputId": "23fc4efd-6621-4547-b662-4a39dba12038",
        "colab": {
          "base_uri": "https://localhost:8080/"
        }
      },
      "source": [
        "### START CODE HERE ###    \n",
        "def add(x,y):\n",
        "  print(x+y)\n",
        "def subtract(x,y):\n",
        "  print(x-y)\n",
        "def divide(x,y):\n",
        "  print(x/y)\n",
        "def multiply(x,y):\n",
        "  print(x*y)\n",
        "### END CODE HERE ###\n",
        "add(8,4)\n",
        "subtract(8,4)\n",
        "divide(8,4)\n",
        "multiply(8,4)"
      ],
      "execution_count": null,
      "outputs": [
        {
          "output_type": "stream",
          "text": [
            "12\n",
            "4\n",
            "2.0\n",
            "32\n"
          ],
          "name": "stdout"
        }
      ]
    },
    {
      "cell_type": "markdown",
      "metadata": {
        "id": "9o-J9fkyCRVZ"
      },
      "source": [
        "**Expected output:**\n",
        " \n",
        " 12 \n",
        " \n",
        " 4\n",
        " \n",
        " 2\n",
        " \n",
        " 32\n",
        "\n"
      ]
    },
    {
      "cell_type": "markdown",
      "metadata": {
        "id": "S3L0dK7I5R8g"
      },
      "source": [
        "**Exercise 4.8 :**\n",
        "\n",
        "Create and define a Function **greet** to greet **\"Monica\", \"Ross\", \"Chandler\", \"Joey\", \"Rachel\"** and **\"Phoebe\".**\n",
        "\n",
        "\n",
        "**Hint:**  \n",
        "\n",
        "Make use of** Arbitrary arguments.**"
      ]
    },
    {
      "cell_type": "code",
      "metadata": {
        "id": "SbQwxf6T9Gix",
        "trusted": false,
        "outputId": "b5fd2c20-92cb-4aa9-a7ab-a5ad44131278",
        "colab": {
          "base_uri": "https://localhost:8080/"
        }
      },
      "source": [
        "### START CODE HERE ###   \n",
        "def greet(*args):\n",
        "  namelist = []\n",
        "  for i in args:\n",
        "    namelist.append(i)\n",
        "    print('Hello ' + i)\n",
        "greet(\"Monica\",\"Ross\",\"Chandler\",\"Joey\",\"Rachel\",\"Phoebe\")           ## Function call\n",
        "\n",
        "### END CODE HERE ###"
      ],
      "execution_count": null,
      "outputs": [
        {
          "output_type": "stream",
          "text": [
            "Hello Monica\n",
            "Hello Ross\n",
            "Hello Chandler\n",
            "Hello Joey\n",
            "Hello Rachel\n",
            "Hello Phoebe\n"
          ],
          "name": "stdout"
        }
      ]
    },
    {
      "cell_type": "markdown",
      "metadata": {
        "id": "SFwuzW2w-BYx"
      },
      "source": [
        "**Expected output:**\n",
        "\n",
        "Hello Monica\n",
        "\n",
        "Hello Ross\n",
        "\n",
        "Hello Chandler\n",
        "\n",
        "Hello Joey\n",
        "\n",
        "Hello Racheal\n",
        "\n",
        "Hello Phoebe"
      ]
    },
    {
      "cell_type": "markdown",
      "metadata": {
        "id": "j6E4JEZSyUnx"
      },
      "source": [
        "**Exercise 4.9 :**\n",
        "\n",
        "Write a Python function to reverse a string.\n",
        "\n",
        "Input: abcde\n",
        "\n",
        "Output: edcba\n",
        "    "
      ]
    },
    {
      "cell_type": "code",
      "metadata": {
        "id": "69Srlm1mzEpZ",
        "trusted": false,
        "outputId": "59329bbe-27d7-4c45-f1e4-29d7da4a158f",
        "colab": {
          "base_uri": "https://localhost:8080/",
          "height": 35
        }
      },
      "source": [
        "## Code here\n",
        "def reverse(x):\n",
        "  return x[::-1]\n",
        "  print(x)\n",
        "reverse('abcde')"
      ],
      "execution_count": null,
      "outputs": [
        {
          "output_type": "execute_result",
          "data": {
            "application/vnd.google.colaboratory.intrinsic+json": {
              "type": "string"
            },
            "text/plain": [
              "'edcba'"
            ]
          },
          "metadata": {
            "tags": []
          },
          "execution_count": 42
        }
      ]
    },
    {
      "cell_type": "markdown",
      "metadata": {
        "id": "lNgE8D7S1DgX"
      },
      "source": [
        "**Exercise 4.10 :**\n",
        "\n",
        "Write a function to implement linear search.\n",
        "\n",
        "Input: abcde, c\n",
        "\n",
        "Output: 3"
      ]
    },
    {
      "cell_type": "code",
      "metadata": {
        "id": "at9H9KP11YoH",
        "trusted": false,
        "outputId": "ea159565-14fe-4f2e-f50b-3827157453fc",
        "colab": {
          "base_uri": "https://localhost:8080/"
        }
      },
      "source": [
        "## Code here\n",
        "def linear_search(x,y):\n",
        "  i=0;\n",
        "  while i<len(x):\n",
        "    if x[i]== y:\n",
        "      print(i)\n",
        "    i+=1\n",
        "linear_search('abcde','c')"
      ],
      "execution_count": null,
      "outputs": [
        {
          "output_type": "stream",
          "text": [
            "2\n"
          ],
          "name": "stdout"
        }
      ]
    },
    {
      "cell_type": "markdown",
      "metadata": {
        "id": "-H99bkQl1aHH"
      },
      "source": [
        "**Exercise 4.11 :**\n",
        "\n",
        "Write a function to find modulus of a number.\n",
        "\n",
        "Input: 12, 2\n",
        "\n",
        "Output: 0"
      ]
    },
    {
      "cell_type": "code",
      "metadata": {
        "id": "JnimtJi_1lPm",
        "trusted": false,
        "outputId": "572bae36-f7b0-431d-bdb7-2afeee08bfa8",
        "colab": {
          "base_uri": "https://localhost:8080/"
        }
      },
      "source": [
        "## Code here\n",
        "def mod(x,y):\n",
        "  return x%y\n",
        "mod(12,2)"
      ],
      "execution_count": null,
      "outputs": [
        {
          "output_type": "execute_result",
          "data": {
            "text/plain": [
              "0"
            ]
          },
          "metadata": {
            "tags": []
          },
          "execution_count": 2
        }
      ]
    },
    {
      "cell_type": "markdown",
      "metadata": {
        "id": "hXldOrfL1m0-"
      },
      "source": [
        "**Exercise 4.12 :**\n",
        "\n",
        "Write a function to find factorial of a number.\n",
        "\n",
        "Input: 5\n",
        "\n",
        "Output: 120"
      ]
    },
    {
      "cell_type": "code",
      "metadata": {
        "id": "YQgivKXB2aht",
        "trusted": false,
        "outputId": "acc697d3-e3c1-472f-d2d0-6b06c719e115",
        "colab": {
          "base_uri": "https://localhost:8080/"
        }
      },
      "source": [
        "## Code here\n",
        "def fact():\n",
        "  x = int(input('Enter a number:'))\n",
        "  if x==0:\n",
        "    print('0! = 1')\n",
        "  else:\n",
        "    i = 1\n",
        "    f=1\n",
        "    while i<=x:\n",
        "      f = i*f\n",
        "      i+=1\n",
        "    print(f) \n",
        "fact()"
      ],
      "execution_count": null,
      "outputs": [
        {
          "output_type": "stream",
          "text": [
            "Enter a number:9\n",
            "362880\n"
          ],
          "name": "stdout"
        }
      ]
    },
    {
      "cell_type": "markdown",
      "metadata": {
        "id": "85I7zkxM2p5f"
      },
      "source": [
        "**Exercise 4.13: **\n",
        "\n",
        "Write a Python function to check whether a number is in a given range.\n",
        "\n",
        "Input:3\n",
        "\n",
        "Output:  Yes"
      ]
    },
    {
      "cell_type": "code",
      "metadata": {
        "id": "UUjBfNoX28nP",
        "trusted": false,
        "outputId": "656e11a9-3550-49f8-9251-d3c4f4c9c3ba",
        "colab": {
          "base_uri": "https://localhost:8080/"
        }
      },
      "source": [
        "##Code here\n",
        "def check():\n",
        "  x = int(input('Enter a number:'))\n",
        "  if x in range(2,10):\n",
        "    print('Yes')\n",
        "  else:\n",
        "    print('No')\n",
        "check()"
      ],
      "execution_count": null,
      "outputs": [
        {
          "output_type": "stream",
          "text": [
            "Enter a number:11\n",
            "No\n"
          ],
          "name": "stdout"
        }
      ]
    },
    {
      "cell_type": "markdown",
      "metadata": {
        "id": "gif78PLw2-o_"
      },
      "source": [
        "**Exercise 4.14: **\n",
        "\n",
        "\n",
        "Write a Python function that accepts a string and calculate the number of upper case letters and lower case letters."
      ]
    },
    {
      "cell_type": "code",
      "metadata": {
        "id": "PFZuEwdC3cBI",
        "trusted": false,
        "outputId": "df698ee6-73b0-4d21-b87f-b89063ddafea",
        "colab": {
          "base_uri": "https://localhost:8080/"
        }
      },
      "source": [
        "## COde here\n",
        "def upper_lower():\n",
        "  s = input('Enter the string:')\n",
        "  x=0\n",
        "  y=0\n",
        "  for i in s:\n",
        "    if i.isupper():\n",
        "      x+=1\n",
        "    elif i.islower():\n",
        "      y+=1\n",
        "    else:\n",
        "      continue\n",
        "  print('upper case letters = ',x, 'lower case letters= ',y)\n",
        "upper_lower()"
      ],
      "execution_count": null,
      "outputs": [
        {
          "output_type": "stream",
          "text": [
            "Enter the string:djftDD\n",
            "upper case letters =  2 lower case letters=  4\n"
          ],
          "name": "stdout"
        }
      ]
    },
    {
      "cell_type": "markdown",
      "metadata": {
        "id": "ko6T7kFh3cX2"
      },
      "source": [
        "**Exercise 4.15: **\n",
        "\n",
        "\n",
        "Write a function to check for prime numbers."
      ]
    },
    {
      "cell_type": "code",
      "metadata": {
        "id": "bZcE2pdV3mFw",
        "trusted": false,
        "outputId": "ed9b00c1-a48e-4232-e2a9-17aa1ddf1979",
        "colab": {
          "base_uri": "https://localhost:8080/"
        }
      },
      "source": [
        "## COde here\n",
        "def prime():\n",
        "  n = int(input('Enter n:'))\n",
        "  if n <=1:\n",
        "    print('not valid number')\n",
        "  else:\n",
        "    i=2\n",
        "    while i<n:\n",
        "      if (n%i ==0):\n",
        "        flag=0\n",
        "        break\n",
        "      else:\n",
        "        flag=1\n",
        "      i+=1\n",
        "    if flag ==1:\n",
        "      print('prime')\n",
        "    else:\n",
        "      print('not prime')\n",
        "prime()"
      ],
      "execution_count": null,
      "outputs": [
        {
          "output_type": "stream",
          "text": [
            "Enter n:13\n",
            "prime\n"
          ],
          "name": "stdout"
        }
      ]
    },
    {
      "cell_type": "markdown",
      "metadata": {
        "id": "kNC2mhNI3mWG"
      },
      "source": [
        "**Exercise 4.16: **\n",
        "\n",
        "\n",
        "Write a function to check for Palindrome number."
      ]
    },
    {
      "cell_type": "code",
      "metadata": {
        "id": "GYiWE4Tt3x6u",
        "trusted": false,
        "outputId": "dcf80587-5cf3-4003-c6f2-ad6dcaaf5dc3",
        "colab": {
          "base_uri": "https://localhost:8080/"
        }
      },
      "source": [
        "## Code here\n",
        "def palindrome():\n",
        "  n = input('Enter a number: ')\n",
        "  m = n[::-1]\n",
        "  if n==m:\n",
        "    print('palindrome number')\n",
        "  else:\n",
        "    print('not palindrome number')\n",
        "palindrome()"
      ],
      "execution_count": null,
      "outputs": [
        {
          "output_type": "stream",
          "text": [
            "Enter a number: daad\n",
            "palindrome number\n"
          ],
          "name": "stdout"
        }
      ]
    },
    {
      "cell_type": "markdown",
      "metadata": {
        "id": "nkLqsf3h4iZF"
      },
      "source": [
        "**Exercise 4.17: **\n",
        "\n",
        "\n",
        "Write a Python program to detect the number of local variables declared in a function."
      ]
    },
    {
      "cell_type": "code",
      "metadata": {
        "id": "aaUrT-VVkvRW",
        "trusted": false,
        "outputId": "c0af19fe-9d00-4554-d01d-9261715adce3",
        "colab": {
          "base_uri": "https://localhost:8080/"
        }
      },
      "source": [
        "## Code here\n",
        "def abc():\n",
        "    x = 1\n",
        "    y = 2\n",
        "    str1= \"some\"\n",
        "    print()\n",
        "print(\"Local variables: \", abc.__code__.co_nlocals)"
      ],
      "execution_count": null,
      "outputs": [
        {
          "output_type": "stream",
          "text": [
            "Local variables:  3\n"
          ],
          "name": "stdout"
        }
      ]
    },
    {
      "cell_type": "markdown",
      "metadata": {
        "id": "rQrioZM_5R-3"
      },
      "source": [
        "**Exercise 4.18: **\n",
        "\n",
        "\n",
        "Write a Python code to implement quick sort."
      ]
    },
    {
      "cell_type": "code",
      "metadata": {
        "id": "b5GaWQZy5Vmh",
        "trusted": false,
        "outputId": "ea00aa13-3368-4a46-e40c-87aa006bb3de",
        "colab": {
          "base_uri": "https://localhost:8080/"
        }
      },
      "source": [
        "## Code here\n",
        "def part(a,beg,end):\n",
        "  i = beg - 1\n",
        "  p = a[end]\n",
        "  for j in range(beg, end):\n",
        "    if a[j] <= p:\n",
        "      i+=1\n",
        "      a[i], a[j] = a[j], a[i]\n",
        "  a[i+1], a[end] = a[end], a[i+1]\n",
        "  return (i+1)\n",
        "def qs(a, beg, end):\n",
        "  if len(a) == 1:\n",
        "      return a\n",
        "  if beg< end:\n",
        "    pi = part(a, beg, end)   \n",
        "    qs(a, beg, pi-1)\n",
        "    qs(a, pi+1, end)\n",
        "a = [10, 7, 8, 9, 1, 5]\n",
        "n = len(a)\n",
        "qs(a, 0, n-1)\n",
        "print(\"Sorted array is:\")\n",
        "for i in range(n):\n",
        "    print(\"%d\" % a[i])  "
      ],
      "execution_count": null,
      "outputs": [
        {
          "output_type": "stream",
          "text": [
            "Sorted array is:\n",
            "1\n",
            "5\n",
            "7\n",
            "8\n",
            "9\n",
            "10\n"
          ],
          "name": "stdout"
        }
      ]
    },
    {
      "cell_type": "markdown",
      "metadata": {
        "id": "7nAf2KyH5XjC"
      },
      "source": [
        "**Exercise 4.19: **\n",
        "\n",
        "\n",
        "Write a Python code to determine if number of given base is divisible by k or not."
      ]
    },
    {
      "cell_type": "code",
      "metadata": {
        "id": "2smebt9n5z3R",
        "trusted": false,
        "outputId": "0c1d5977-8cf0-44cf-a5a2-50295f542994",
        "colab": {
          "base_uri": "https://localhost:8080/"
        }
      },
      "source": [
        "## Code here\n",
        "def div(x,y):\n",
        "  if(x%y == 0):\n",
        "    print(x,' is dividible by ', y)\n",
        "  else:\n",
        "    print('no')\n",
        "div(4,2)"
      ],
      "execution_count": null,
      "outputs": [
        {
          "output_type": "stream",
          "text": [
            "4  is dividible by  2\n"
          ],
          "name": "stdout"
        }
      ]
    },
    {
      "cell_type": "markdown",
      "metadata": {
        "id": "SguGdK1m51SS"
      },
      "source": [
        "**Exercise 4.20: **\n",
        "\n",
        "\n",
        "Write a Python code to implement hash function."
      ]
    },
    {
      "cell_type": "code",
      "metadata": {
        "id": "gDQCDD-B6Bz8",
        "trusted": false
      },
      "source": [
        "## Code here\n",
        "t = (1, 2, 3, 4, 5) "
      ],
      "execution_count": null,
      "outputs": []
    },
    {
      "cell_type": "markdown",
      "metadata": {
        "id": "bHnMn63S6Hfj"
      },
      "source": [
        "**Exercise 4.21: **\n",
        "\n",
        "\n",
        "Write a Python function to concatenate two strings without using string functions."
      ]
    },
    {
      "cell_type": "code",
      "metadata": {
        "id": "f-2YbvXY68t7",
        "trusted": false,
        "outputId": "75d2db9a-d8cf-4e5a-ba2e-8f07c070b26b",
        "colab": {
          "base_uri": "https://localhost:8080/"
        }
      },
      "source": [
        "## Code here\n",
        "def concat():\n",
        "  x = input('Enter string 1: ')\n",
        "  y = input('Enter string 2: ')\n",
        "  print(x+y)\n",
        "concat()"
      ],
      "execution_count": null,
      "outputs": [
        {
          "output_type": "stream",
          "text": [
            "Enter string 1: abc\n",
            "Enter string 2: def\n",
            "abcdef\n"
          ],
          "name": "stdout"
        }
      ]
    },
    {
      "cell_type": "markdown",
      "metadata": {
        "id": "Rf3t59H8IAnU"
      },
      "source": [
        "Linear Search"
      ]
    },
    {
      "cell_type": "code",
      "metadata": {
        "id": "bBVr9NvlIGHI",
        "outputId": "fb6af75b-f295-434e-ffb9-427f098ba951",
        "colab": {
          "base_uri": "https://localhost:8080/"
        }
      },
      "source": [
        "# Linearly search x in arr[]. If x is present\n",
        "# then return the index, otherwise return -1\n",
        "\n",
        "\n",
        "def search(arr, x):\n",
        "\tfor index, value in enumerate(arr):\n",
        "\t\tif value == x:\n",
        "\t\t\treturn index\n",
        "\treturn -1\n",
        "\n",
        "\n",
        "# Driver Code\n",
        "arr = [1, 10, 30, 15]\n",
        "x = 30\n",
        "print(x, \"is present at index\",\n",
        "\tsearch(arr, x))"
      ],
      "execution_count": null,
      "outputs": [
        {
          "output_type": "stream",
          "text": [
            "30 is present at index 2\n"
          ],
          "name": "stdout"
        }
      ]
    }
  ]
}